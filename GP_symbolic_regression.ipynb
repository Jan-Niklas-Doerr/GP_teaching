{
 "cells": [
  {
   "attachments": {},
   "cell_type": "markdown",
   "metadata": {},
   "source": [
    "First, we define the primitives (mathematical functions) we want to use for our tree. To make further implementations easier we limit ourselves to binary operators"
   ]
  },
  {
   "cell_type": "code",
   "execution_count": 1,
   "metadata": {},
   "outputs": [],
   "source": [
    "def add(x, y): return x + y\n",
    "def sub(x, y): return x - y\n",
    "def mul(x, y): return x * y\n",
    "def div(x, y):\n",
    "    \"\"\"\n",
    "    protected division. Returns 1000000 if dividing by 0\n",
    "    \"\"\"\n",
    "    if y == 0: return 1000000\n",
    "    return x / y\n",
    "def pot(x, y): return x ** y\n",
    "def maxi(x, y): \n",
    "    if x >=y: return x\n",
    "    return y\n",
    "     \n",
    "def mini(x,y):\n",
    "    if x <= y: return x\n",
    "    return y\n",
    "\n",
    "PRIMITIVES = [add, sub, mul, div, pot, maxi, mini]\n",
    "PRIMITIVE_SYMBOLS = [\"+\", \"-\", \"*\",\"/\", \"^\", \"max\", \"min\"]"
   ]
  },
  {
   "attachments": {},
   "cell_type": "markdown",
   "metadata": {},
   "source": [
    "Then we create a Tree class, which will be the base for our tree. It will have a left and right child, and a value. The value will be a either a primitive or a terminal, and the children will be other trees.\n",
    "\n",
    "We also define a function to print the tree, and a function to evaluate the tree.\n",
    "\n",
    "Finally we have a set of functions to perform a crossover.\n"
   ]
  },
  {
   "cell_type": "code",
   "execution_count": 2,
   "metadata": {},
   "outputs": [],
   "source": [
    "class Tree:\n",
    "\n",
    "    # Constructor of class Tree\n",
    "    def __init__(self,data = None,left = None, right = None):\n",
    "        self.data = data\n",
    "        self.left = left\n",
    "        self.right = right\n",
    "\n",
    "    def compute_tree(self, terminal_values):\n",
    "        \"\"\"\n",
    "        computes the tree, given a dict of terminal values\n",
    "        \"\"\" \n",
    "        if (self.data in PRIMITIVES): \n",
    "            return self.data(self.left.compute_tree(terminal_values),\n",
    "                              self.right.compute_tree(terminal_values))\n",
    "        elif type(self.data) == int or type(self.data) == float:\n",
    "            return self.data\n",
    "        else:\n",
    "            return terminal_values[self.data]\n",
    "  \n",
    "    def __str__(self):\n",
    "        \"\"\"\n",
    "        returns a string representation of the tree,\n",
    "        using the primitive symbols.\n",
    "        it overrides the str() and print() operator\n",
    "        \n",
    "        \"\"\"\n",
    "        if (self.data in PRIMITIVES):\n",
    "            return (\"(\" + self.left.__str__() \n",
    "                    + str(PRIMITIVE_SYMBOLS[PRIMITIVES.index(self.data)]) \n",
    "                    + self.right.__str__() + \")\")\n",
    "        else:\n",
    "            return str(self.data)\n",
    "    \n",
    "    def size(self):\n",
    "        \"\"\"\n",
    "        returns the size of the tree,\n",
    "        i.e. the number of nodes is has that are not none\"\"\"\n",
    "        if (self.data in PRIMITIVES):\n",
    "            return 1 + self.left.size() + self.right.size()\n",
    "        else:\n",
    "            return 1\n",
    "    \n",
    "    def subtree(self, count):\n",
    "        \"\"\"\n",
    "        returns a subtree of the tree, starting at node count\"\"\"\n",
    "        t = Tree()\n",
    "        count -= 1            \n",
    "        if count <= 0: # return the current subtree as new tree\n",
    "            t.data  = self.data\n",
    "            t.left  = self.left\n",
    "            t.right = self.right\n",
    "            return t\n",
    "        else: # move into subtree recursively                \n",
    "            if self.left and count <= self.left.size(): \n",
    "                return self.left.subtree(count)\n",
    "                # if the left tree has more nodes than the count \n",
    "            elif self.right:\n",
    "                return self.right.subtree(count - self.left.size())\n",
    "                # if the right tree has more nodes than the count - size of left tree\n",
    "\n",
    "    def replace(self, count,subtree):\n",
    "        \"\"\"\n",
    "        the subtree replaces the tree, starting at node count\n",
    "        \"\"\"\n",
    "        count -= 1            \n",
    "        if count <= 0: \n",
    "            self.data  = subtree.data\n",
    "            self.left  = subtree.left\n",
    "            self.right = subtree.right\n",
    "\n",
    "        else: # move into subtree recursively              \n",
    "            if self.left and count <= self.left.size():\n",
    "                return self.left.replace(count,subtree)\n",
    "                # if the left tree has more nodes than the count \n",
    "            elif self.right:\n",
    "                return self.right.replace(count - self.left.size(),subtree)\n",
    "                # if the right tree has more nodes than the count - size of left tree\n",
    "\n",
    "    def crossover(self, other, point):\n",
    "        \"\"\"\n",
    "        xo 2 trees at node point, make sure the node point exists in both trees.\n",
    "\n",
    "        Disclaimer: this is only one way of doing a crossover, and might not be the best way.\n",
    "        \"\"\"\n",
    "\n",
    "        assert point <= self.size() and point <= other.size(),\"these points do not exist in both trees\"\n",
    "        subtree1 = self.subtree(point)\n",
    "        subtree2 = other.subtree(point)\n",
    "        self.replace(point,subtree2)\n",
    "        other.replace(point,subtree1)\n",
    "        return self, other"
   ]
  },
  {
   "cell_type": "markdown",
   "metadata": {},
   "source": [
    "Next, we need to define the fitness function, which will be the mean squared error of the tree on the sample data. In scheduling this will require te simualtion we which is a lot more time intensive in run time."
   ]
  },
  {
   "cell_type": "code",
   "execution_count": 3,
   "metadata": {},
   "outputs": [],
   "source": [
    "def determine_fitness(Tree, data):\n",
    "    fitness = 0\n",
    "    for i in data:\n",
    "        terminal_values = i[\"values\"]\n",
    "        target = i[\"target\"]\n",
    "        prediction = Tree.compute_tree(terminal_values)\n",
    "        fitness += (target - prediction)**2\n",
    "    return fitness/len(data)"
   ]
  },
  {
   "cell_type": "markdown",
   "metadata": {},
   "source": [
    "Before we can generate the general loop of GP and train it we need a way to generate the initial population. We will do this by generating random trees."
   ]
  },
  {
   "cell_type": "code",
   "execution_count": 4,
   "metadata": {},
   "outputs": [],
   "source": [
    "import random\n",
    "import copy\n",
    "\n",
    "def random_tree(max_depth, terminals):\n",
    "    \"\"\"\n",
    "    returns a random tree\n",
    "    \"\"\"\n",
    "    if max_depth == 0:\n",
    "        return Tree(random.sample(terminals,1)[0])\n",
    "    else:\n",
    "\n",
    "        return Tree(random.sample(PRIMITIVES,1)[0],\n",
    "                    random_tree(max_depth-1, terminals),\n",
    "                    random_tree(max_depth-1, terminals))\n",
    "\n",
    "def init_population(pop_size, max_depth, terminals, data):\n",
    "    \"\"\"\n",
    "    initializes a population of random trees\n",
    "    \"\"\"\n",
    "    population = []\n",
    "    for i in range(pop_size):\n",
    "        tmp_tree = random_tree(random.sample(range(2,max_depth+1), 1)[0], terminals)\n",
    "        population.append([copy.deepcopy(tmp_tree), determine_fitness(tmp_tree, data)])\n",
    "    return population\n",
    "\n",
    "def tournament_selection(population, tournament_size):\n",
    "    \"\"\"\n",
    "    selects the best tree from a tournament\n",
    "    \"\"\"\n",
    "    tournament = random.sample(population, tournament_size)\n",
    "    tournament.sort(key=lambda x: x[1], reverse=False)\n",
    "    return copy.deepcopy(tournament[0][0])\n",
    "\n"
   ]
  },
  {
   "attachments": {},
   "cell_type": "markdown",
   "metadata": {},
   "source": [
    "Finally, we build the general GP loop. we generate a random polulation of trees, and then evolve them. We will use no mutation for simplicty reasons.\n",
    "\n",
    "In general it would make sense to put all of this into a GP class. but for the purpose of explaining we split it up into singular functions."
   ]
  },
  {
   "cell_type": "code",
   "execution_count": 5,
   "metadata": {},
   "outputs": [],
   "source": [
    "def run_gp(generations, popsize, terminals, data,\n",
    "           tournament_size=5, max_depth=5, elitism=2):\n",
    "\n",
    "    pop = init_population(popsize, max_depth, terminals, data)\n",
    "    pop.sort(key = lambda x: x[1], reverse=False)\n",
    "\n",
    "    print(\"Generation: 0 Best fitness: \", pop[0][1])\n",
    "\n",
    "    for gen in range(1, generations + 1):\n",
    "        new_pop = []\n",
    "        for i in range(popsize//2):\n",
    "            indicator = random.random()\n",
    "            if indicator < 0.1: # keep some old trees\n",
    "                new_pop.append(copy.deepcopy(pop[random.sample(range(popsize),1)[0]]))\n",
    "                new_pop.append(copy.deepcopy(pop[random.sample(range(popsize),1)[0]]))\n",
    "\n",
    "            elif random.random() < 0.9: # crossover\n",
    "                parent1 = tournament_selection(pop, tournament_size)\n",
    "                parent2 = tournament_selection(pop, tournament_size)\n",
    "                point = random.sample(range(1, min(parent1.size(), parent2.size()) + 1),1)[0]\n",
    "                child1, child2 = parent1.crossover(parent2, point)\n",
    "                new_pop.append((copy.deepcopy(child1), determine_fitness(child1, data)))\n",
    "                new_pop.append((copy.deepcopy(child2), determine_fitness(child2, data)))\n",
    "                \n",
    "            else: # mutation by crossover with a random tree\n",
    "                parent1 = tournament_selection(pop, tournament_size)\n",
    "                parent2 = random_tree(random.sample(range(2,max_depth+1), 1)[0], terminals)\n",
    "                point = random.sample(range(1, min(parent1.size(), parent2.size()) + 1),1)[0]\n",
    "                child1, child2 = parent1.crossover(parent2, point)\n",
    "                new_pop.append((copy.deepcopy(child1), determine_fitness(child1, data)))\n",
    "                new_pop.append((copy.deepcopy(child2), determine_fitness(child2, data)))\n",
    "        \n",
    "        # add elitism keep the best x trees from the old population\n",
    "        for i in range(elitism):\n",
    "            new_pop.append(pop[i])\n",
    "        new_pop.sort(key=lambda x: x[1], reverse=False)\n",
    "        pop = new_pop[:popsize] # cut of the two worse trees\n",
    "        print(\"Generation: \", gen, \"Best fitness: \", pop[0][1])\n",
    "\n",
    "    print(\"Best tree: \", pop[0][0])\n",
    "    print(\"Fitness: \", pop[0][1])\n",
    "\n"
   ]
  },
  {
   "attachments": {},
   "cell_type": "markdown",
   "metadata": {},
   "source": [
    "Lets test our GP in finding the function f(x) = x^2 + x*y + y\n",
    "\n",
    "first we generate the data"
   ]
  },
  {
   "cell_type": "code",
   "execution_count": null,
   "metadata": {},
   "outputs": [],
   "source": []
  },
  {
   "cell_type": "code",
   "execution_count": 6,
   "metadata": {},
   "outputs": [],
   "source": [
    "data = []\n",
    "size = 1000\n",
    "for i in range(size):\n",
    "    x = random.randint(0,100)\n",
    "    y = random.randint(0,100)\n",
    "    data.append({\"values\": {\"x\": x, \"y\": y},\n",
    "                 \"target\": x**2 + x*y + y})\n"
   ]
  },
  {
   "cell_type": "markdown",
   "metadata": {},
   "source": [
    "Now we can final test our GP. We limit the possible primitives to the simpler ones. "
   ]
  },
  {
   "cell_type": "code",
   "execution_count": 9,
   "metadata": {},
   "outputs": [
    {
     "name": "stdout",
     "output_type": "stream",
     "text": [
      "Generation: 0 Best fitness:  19716245.3\n",
      "Generation:  1 Best fitness:  5987987.071\n",
      "Generation:  2 Best fitness:  3377.658\n",
      "Generation:  3 Best fitness:  3377.658\n",
      "Generation:  4 Best fitness:  1683.976\n",
      "Generation:  5 Best fitness:  1683.976\n",
      "Generation:  6 Best fitness:  1683.976\n",
      "Generation:  7 Best fitness:  1683.976\n",
      "Generation:  8 Best fitness:  1683.976\n",
      "Generation:  9 Best fitness:  0.0\n",
      "Generation:  10 Best fitness:  0.0\n",
      "Generation:  11 Best fitness:  0.0\n",
      "Generation:  12 Best fitness:  0.0\n",
      "Generation:  13 Best fitness:  0.0\n",
      "Generation:  14 Best fitness:  0.0\n",
      "Generation:  15 Best fitness:  0.0\n",
      "Generation:  16 Best fitness:  0.0\n",
      "Generation:  17 Best fitness:  0.0\n",
      "Generation:  18 Best fitness:  0.0\n",
      "Generation:  19 Best fitness:  0.0\n",
      "Generation:  20 Best fitness:  0.0\n",
      "Generation:  21 Best fitness:  0.0\n",
      "Generation:  22 Best fitness:  0.0\n",
      "Generation:  23 Best fitness:  0.0\n",
      "Generation:  24 Best fitness:  0.0\n",
      "Generation:  25 Best fitness:  0.0\n",
      "Generation:  26 Best fitness:  0.0\n",
      "Generation:  27 Best fitness:  0.0\n",
      "Generation:  28 Best fitness:  0.0\n",
      "Generation:  29 Best fitness:  0.0\n",
      "Generation:  30 Best fitness:  0.0\n",
      "Best tree:  ((x*x)+(y+(x*y)))\n",
      "Fitness:  0.0\n"
     ]
    }
   ],
   "source": [
    "PRIMITIVES = [add, sub, mul, div]\n",
    "PRIMITIVE_SYMBOLS = [\"+\", \"-\", \"*\",\"/\"]\n",
    "run_gp(30, 100, [\"x\",\"y\"], data)"
   ]
  },
  {
   "cell_type": "markdown",
   "metadata": {},
   "source": [
    "As we can see the GP can get stuck in a close to 0 solution easily. Thats why a lot of literature exists to help it get out of local optima. In our simple example rerunning it helps."
   ]
  }
 ],
 "metadata": {
  "kernelspec": {
   "display_name": "cp_env",
   "language": "python",
   "name": "python3"
  },
  "language_info": {
   "codemirror_mode": {
    "name": "ipython",
    "version": 3
   },
   "file_extension": ".py",
   "mimetype": "text/x-python",
   "name": "python",
   "nbconvert_exporter": "python",
   "pygments_lexer": "ipython3",
   "version": "3.10.4"
  },
  "orig_nbformat": 4
 },
 "nbformat": 4,
 "nbformat_minor": 2
}
